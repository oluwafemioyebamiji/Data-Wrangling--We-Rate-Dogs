{
 "cells": [
  {
   "cell_type": "markdown",
   "metadata": {},
   "source": [
    "## Report: Dog Rating Tweets from WeRateDogs\n",
    "\n",
    "This project has gathered real world data from a twitter handle \"We rate Dogs\" - @dog_rates. WeRateDogs is a twitter handle that allows people to rate their dog with several interesting comments about each dogs. This data was then extracted to form a datasets including the rating numerators, denominators, etc.\n",
    "\n",
    "<img src='dog-rates-social.jpg'>\n",
    "image source: Udacity\n",
    "\n",
    "WeRateDogs @dog_rates is indeed an interesting platform. The humorous comments and the rating figures can get someone glued to the handle for hours unconsciously.\n",
    "\n",
    "This project has attempted to wrangle the data of tweets extracted from the handle, some quality issues identified and resolved. We decided to create a few insights from the cleaned datasets and the three quick insights generated include:\n",
    "\n",
    "### Insights:\n",
    "\n",
    "1. Clumber dog breed has the highest average rating. The top 5 dog breeds with highest average rating are: \n",
    "    - clumber               - 27.000000\n",
    "    - soft-coated_wheaten_terrier   - 25.454545\n",
    "    - west_highland_white_terrier    - 15.642857\n",
    "    - great_pyrenees                 - 14.928571\n",
    "    - borzoi                         - 14.444444\n",
    "\n",
    "\n",
    "2. A very high correlation of 0.86 between favorite count and retweet count shows dogs that are retweeted are more likely to have higher favorites_counts. It simply implies the higher the favorite count, the higher the number of retweets\n",
    "\n",
    "\n",
    "3. More ratings came through Twitter for iPhone with a value of 1,506 followed by 19 from Twitter Web Client\n",
    "\n",
    "\n",
    "But then, we are also interested in seeing the convenient source through which dog lovers provided their rating and it seems most dog users conveniently tweeted with their Twitter for iPhone. Pictures sometimes speak louder and here is what we got:\n",
    "\n",
    "<img src='ratebysource.png'>\n",
    "\n",
    "The chart above simply corroborate our earlier findings that more ratings came through Twitter for iPhone with a value of 1,506 followed by 19 from Twitter Web Client"
   ]
  },
  {
   "cell_type": "code",
   "execution_count": null,
   "metadata": {},
   "outputs": [],
   "source": []
  }
 ],
 "metadata": {
  "kernelspec": {
   "display_name": "Python 3",
   "language": "python",
   "name": "python3"
  },
  "language_info": {
   "codemirror_mode": {
    "name": "ipython",
    "version": 3
   },
   "file_extension": ".py",
   "mimetype": "text/x-python",
   "name": "python",
   "nbconvert_exporter": "python",
   "pygments_lexer": "ipython3",
   "version": "3.6.3"
  }
 },
 "nbformat": 4,
 "nbformat_minor": 2
}
